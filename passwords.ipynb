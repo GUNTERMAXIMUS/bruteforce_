{
  "nbformat": 4,
  "nbformat_minor": 0,
  "metadata": {
    "colab": {
      "name": "passwords.ipynb",
      "provenance": [],
      "mount_file_id": "1Iz_XTuSvbFr0ZwbRWCK1y38eMxATscas",
      "authorship_tag": "ABX9TyM4LAKJ1niWAGRFOWJ4mK+x",
      "include_colab_link": true
    },
    "kernelspec": {
      "name": "python3",
      "display_name": "Python 3"
    },
    "accelerator": "TPU"
  },
  "cells": [
    {
      "cell_type": "markdown",
      "metadata": {
        "id": "view-in-github",
        "colab_type": "text"
      },
      "source": [
        "<a href=\"https://colab.research.google.com/github/GUNTERMAXIMUS/bruteforce_/blob/master/passwords.ipynb\" target=\"_parent\"><img src=\"https://colab.research.google.com/assets/colab-badge.svg\" alt=\"Open In Colab\"/></a>"
      ]
    },
    {
      "cell_type": "code",
      "metadata": {
        "id": "47uE_zdEavQM",
        "colab_type": "code",
        "colab": {}
      },
      "source": [
        "import string\n",
        "from time import sleep\n",
        "from tqdm.auto import trange, tqdm\n",
        "from itertools import combinations, permutations"
      ],
      "execution_count": 0,
      "outputs": []
    },
    {
      "cell_type": "code",
      "metadata": {
        "id": "_1zbvSfua0M0",
        "colab_type": "code",
        "colab": {}
      },
      "source": [
        "def generate_bruteforce_dict(iterable, length):\n",
        "  lst = list(iterable)\n",
        "  for i in trange(0, length + 1, desc='Progress'):\n",
        "    for subset in tqdm(permutations(lst, i),  desc='Subsets', leave = False):\n",
        "      with open('passwords.txt', 'a') as f:\n",
        "        w = ''.join(map(str, subset))\n",
        "        f.write(w + '\\n')\n",
        "        sleep(0.000001)"
      ],
      "execution_count": 0,
      "outputs": []
    },
    {
      "cell_type": "code",
      "metadata": {
        "id": "zYAT88mAa8eY",
        "colab_type": "code",
        "outputId": "34ff5d1b-4a86-42d6-d8e6-0a5fbcf857df",
        "colab": {
          "base_uri": "https://localhost:8080/",
          "height": 51
        }
      },
      "source": [
        "iterable = string.printable[:94]\n",
        "lenght = 8 # password with 8 characters\n",
        "\n",
        "print(len(iterable))\n",
        "print(iterable)"
      ],
      "execution_count": 0,
      "outputs": [
        {
          "output_type": "stream",
          "text": [
            "94\n",
            "0123456789abcdefghijklmnopqrstuvwxyzABCDEFGHIJKLMNOPQRSTUVWXYZ!\"#$%&'()*+,-./:;<=>?@[\\]^_`{|}~\n"
          ],
          "name": "stdout"
        }
      ]
    },
    {
      "cell_type": "code",
      "metadata": {
        "id": "KhkTrVcQ5qMe",
        "colab_type": "code",
        "colab": {}
      },
      "source": [
        "generate_bruteforce_dict(iterable, lenght)"
      ],
      "execution_count": 0,
      "outputs": []
    }
  ]
}