{
  "nbformat": 4,
  "nbformat_minor": 0,
  "metadata": {
    "colab": {
      "name": "passwords.ipynb",
      "provenance": [],
      "mount_file_id": "1Iz_XTuSvbFr0ZwbRWCK1y38eMxATscas",
      "authorship_tag": "ABX9TyMbjRT64ffVtY2V/d/PW+xZ",
      "include_colab_link": true
    },
    "kernelspec": {
      "name": "python3",
      "display_name": "Python 3"
    },
    "accelerator": "TPU"
  },
  "cells": [
    {
      "cell_type": "markdown",
      "metadata": {
        "id": "view-in-github",
        "colab_type": "text"
      },
      "source": [
        "<a href=\"https://colab.research.google.com/github/GUNTERMAXIMUS/bruteforce_/blob/master/passwords.ipynb\" target=\"_parent\"><img src=\"https://colab.research.google.com/assets/colab-badge.svg\" alt=\"Open In Colab\"/></a>"
      ]
    },
    {
      "cell_type": "code",
      "metadata": {
        "id": "47uE_zdEavQM",
        "colab_type": "code",
        "colab": {}
      },
      "source": [
        "import string\n",
        "from tqdm.auto import trange, tqdm\n",
        "from itertools import permutations"
      ],
      "execution_count": 0,
      "outputs": []
    },
    {
      "cell_type": "markdown",
      "metadata": {
        "id": "z-iwMoPZc38k",
        "colab_type": "text"
      },
      "source": [
        "**generator**"
      ]
    },
    {
      "cell_type": "code",
      "metadata": {
        "id": "7FMomai9VSE1",
        "colab_type": "code",
        "colab": {}
      },
      "source": [
        "def combined(lst, lenStart, lenEnd):\n",
        "  for i in trange(lenStart, lenEnd + 1, desc='Progress'):\n",
        "    for subset in tqdm(permutations(lst, i),  desc='Subsets', leave = False):\n",
        "      w = ''.join(map(str, subset))\n",
        "      yield w\n",
        "\n",
        "def compress_permutation(lst, lenStart, lenEnd):\n",
        "  yield ''.join([''.join(map(str, subset)) for i in trange(lenStart, lenEnd + 1, desc='Progress') for subset in tqdm(permutations(lst, i), desc='Subsets', leave = False)])"
      ],
      "execution_count": 0,
      "outputs": []
    },
    {
      "cell_type": "markdown",
      "metadata": {
        "id": "hOg8nbIHdBcq",
        "colab_type": "text"
      },
      "source": [
        "**variables**"
      ]
    },
    {
      "cell_type": "code",
      "metadata": {
        "id": "zYAT88mAa8eY",
        "colab_type": "code",
        "colab": {}
      },
      "source": [
        "iterable = list(string.printable[:94])\n",
        "lenStart, lendEnd = 1, 8"
      ],
      "execution_count": 0,
      "outputs": []
    },
    {
      "cell_type": "code",
      "metadata": {
        "id": "7x81A7cfU1IB",
        "colab_type": "code",
        "colab": {}
      },
      "source": [
        "# example\n",
        "l1, l2 = 1, 9\n",
        "c_sample = list(string.printable[:62])"
      ],
      "execution_count": 0,
      "outputs": []
    },
    {
      "cell_type": "code",
      "metadata": {
        "id": "6t4qrF9WbavS",
        "colab_type": "code",
        "colab": {}
      },
      "source": [
        "for subset in compress_permutation(c_sample, l1, l2):\n",
        "  with open('passwords.txt', 'a') as f:\n",
        "    f.write(subset + '\\n')"
      ],
      "execution_count": 0,
      "outputs": []
    }
  ]
}